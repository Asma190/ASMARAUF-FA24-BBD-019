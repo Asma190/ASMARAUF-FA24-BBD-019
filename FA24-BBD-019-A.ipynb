{
 "cells": [
  {
   "cell_type": "code",
   "execution_count": null,
   "id": "51c68a68-640d-4490-8b5b-90954c12505d",
   "metadata": {},
   "outputs": [],
   "source": [
    "#ASMA RAUF\n",
    "# FA24-BBD-019"
   ]
  },
  {
   "cell_type": "code",
   "execution_count": 1,
   "id": "be2b162a-afe7-4d67-b343-f3235db46678",
   "metadata": {},
   "outputs": [
    {
     "name": "stdout",
     "output_type": "stream",
     "text": [
      "[1, 2, 3, 4, 5, 6, 7]\n"
     ]
    }
   ],
   "source": [
    "#QUESTION 1\n",
    "several_numbers=[1,2,3,4,5,6,7]\n",
    "print(several_numbers)"
   ]
  },
  {
   "cell_type": "code",
   "execution_count": 3,
   "id": "5540cca9-39d0-4837-8036-6636a04288a0",
   "metadata": {},
   "outputs": [
    {
     "name": "stdout",
     "output_type": "stream",
     "text": [
      "The sum of 64 and 32 is: 96\n"
     ]
    }
   ],
   "source": [
    "#Question 2\n",
    "num1 = 64\n",
    "num2 = 32\n",
    "sum_of_numbers = num1 + num2\n",
    "print(\"The sum of\", num1, \"and\", num2, \"is:\", sum_of_numbers)\n"
   ]
  },
  {
   "cell_type": "code",
   "execution_count": 5,
   "id": "84b356cd-d21e-46e7-b277-4c17185dc74e",
   "metadata": {},
   "outputs": [
    {
     "name": "stdin",
     "output_type": "stream",
     "text": [
      "Enter the first number (x):  23\n",
      "Enter the second number (y):  25\n"
     ]
    },
    {
     "name": "stdout",
     "output_type": "stream",
     "text": [
      "The sum of 23 and 25 is: 48\n"
     ]
    }
   ],
   "source": [
    "#Question 3\n",
    "x = int(input(\"Enter the first number (x): \"))\n",
    "y = int(input(\"Enter the second number (y): \"))\n",
    "sum_of_numbers = x + y\n",
    "print(\"The sum of\", x, \"and\", y, \"is:\", sum_of_numbers)\n"
   ]
  },
  {
   "cell_type": "code",
   "execution_count": 7,
   "id": "2b9b3c27-4b38-4ab2-9d48-a53d9f1448f2",
   "metadata": {},
   "outputs": [
    {
     "name": "stdout",
     "output_type": "stream",
     "text": [
      "['lucky']\n"
     ]
    }
   ],
   "source": [
    "#Question 4\n",
    "s=[\"lucky\"]\n",
    "print(s)"
   ]
  },
  {
   "cell_type": "code",
   "execution_count": 9,
   "id": "090fdaeb-49b7-437b-ad46-841f12f1f6c6",
   "metadata": {},
   "outputs": [
    {
     "name": "stdout",
     "output_type": "stream",
     "text": [
      "Today is 2/2/2016\n"
     ]
    }
   ],
   "source": [
    "#Question 5\n",
    "day = 2\n",
    "month = 2\n",
    "year = 2016\n",
    "print(f\"Today is {day}/{month}/{year}\")\n"
   ]
  },
  {
   "cell_type": "code",
   "execution_count": 11,
   "id": "516b4282-87ee-4506-b07e-730acc69a736",
   "metadata": {},
   "outputs": [
    {
     "name": "stdin",
     "output_type": "stream",
     "text": [
      "Please enter your phone number:  1234567\n"
     ]
    },
    {
     "name": "stdout",
     "output_type": "stream",
     "text": [
      "Your phone number is: 1234567\n"
     ]
    }
   ],
   "source": [
    "#Question 6\n",
    "phone_number = input(\"Please enter your phone number: \")\n",
    "print(f\"Your phone number is: {phone_number}\")\n"
   ]
  },
  {
   "cell_type": "code",
   "execution_count": null,
   "id": "8ed483a8-9516-4900-aa7c-0d6cbd6dcfe6",
   "metadata": {},
   "outputs": [],
   "source": []
  }
 ],
 "metadata": {
  "kernelspec": {
   "display_name": "Python 3 (ipykernel)",
   "language": "python",
   "name": "python3"
  },
  "language_info": {
   "codemirror_mode": {
    "name": "ipython",
    "version": 3
   },
   "file_extension": ".py",
   "mimetype": "text/x-python",
   "name": "python",
   "nbconvert_exporter": "python",
   "pygments_lexer": "ipython3",
   "version": "3.12.4"
  }
 },
 "nbformat": 4,
 "nbformat_minor": 5
}
